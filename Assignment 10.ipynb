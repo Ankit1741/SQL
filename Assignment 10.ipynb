{
 "cells": [
  {
   "cell_type": "code",
   "execution_count": 1,
   "id": "632a2329",
   "metadata": {},
   "outputs": [],
   "source": [
    "import mysql.connector as con"
   ]
  },
  {
   "cell_type": "code",
   "execution_count": 2,
   "id": "dd6de9d6",
   "metadata": {},
   "outputs": [],
   "source": [
    "mydb = con.connect(host='localhost', user='root', passwd='Ankit7631')"
   ]
  },
  {
   "cell_type": "code",
   "execution_count": 3,
   "id": "6b35173b",
   "metadata": {},
   "outputs": [],
   "source": [
    "cur = mydb.cursor()"
   ]
  },
  {
   "cell_type": "code",
   "execution_count": 4,
   "id": "60b79256",
   "metadata": {},
   "outputs": [],
   "source": [
    "cur.execute('use ineuron')"
   ]
  },
  {
   "cell_type": "markdown",
   "id": "eee78dba",
   "metadata": {},
   "source": [
    "# Q-1. Write an SQL query to determine the 5th highest salary without using TOP or limit method."
   ]
  },
  {
   "cell_type": "code",
   "execution_count": 5,
   "id": "468691e7",
   "metadata": {},
   "outputs": [
    {
     "data": {
      "text/plain": [
       "[(1, 'Monika', 'Arora', 100000, datetime.datetime(2014, 2, 20, 9, 0), 'HR')]"
      ]
     },
     "execution_count": 5,
     "metadata": {},
     "output_type": "execute_result"
    }
   ],
   "source": [
    "cur.execute(\"SELECT * FROM worker w1 WHERE 4=(SELECT COUNT(salary) FROM worker w2 WHERE w2.salary>w1.salary)\")\n",
    "cur.fetchall()"
   ]
  },
  {
   "cell_type": "markdown",
   "id": "81e06bee",
   "metadata": {},
   "source": [
    "# Q-2. Write an SQL query to fetch the list of employees with the same salary."
   ]
  },
  {
   "cell_type": "code",
   "execution_count": 6,
   "id": "a00225a9",
   "metadata": {},
   "outputs": [],
   "source": [
    "cur.execute(\"SELECT w1.* FROM worker w1 JOIN worker w2 ON w1.salary=w2.salary AND w1.worker_id!=w2.worker_id\")"
   ]
  },
  {
   "cell_type": "code",
   "execution_count": 7,
   "id": "bd06a433",
   "metadata": {},
   "outputs": [
    {
     "data": {
      "text/plain": [
       "[(5, 'Vivek', 'Bhati', 500000, datetime.datetime(2014, 6, 11, 9, 0), 'Admin'),\n",
       " (4,\n",
       "  'Amitabh',\n",
       "  'Singh',\n",
       "  500000,\n",
       "  datetime.datetime(2014, 2, 20, 9, 0),\n",
       "  'Admin')]"
      ]
     },
     "execution_count": 7,
     "metadata": {},
     "output_type": "execute_result"
    }
   ],
   "source": [
    "cur.fetchall()"
   ]
  },
  {
   "cell_type": "code",
   "execution_count": null,
   "id": "8a234336",
   "metadata": {},
   "outputs": [],
   "source": []
  }
 ],
 "metadata": {
  "kernelspec": {
   "display_name": "Python 3 (ipykernel)",
   "language": "python",
   "name": "python3"
  },
  "language_info": {
   "codemirror_mode": {
    "name": "ipython",
    "version": 3
   },
   "file_extension": ".py",
   "mimetype": "text/x-python",
   "name": "python",
   "nbconvert_exporter": "python",
   "pygments_lexer": "ipython3",
   "version": "3.9.7"
  }
 },
 "nbformat": 4,
 "nbformat_minor": 5
}
