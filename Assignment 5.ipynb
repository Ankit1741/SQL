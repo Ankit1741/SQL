{
 "cells": [
  {
   "cell_type": "code",
   "execution_count": 1,
   "id": "632a2329",
   "metadata": {},
   "outputs": [],
   "source": [
    "import mysql.connector as con"
   ]
  },
  {
   "cell_type": "code",
   "execution_count": 2,
   "id": "dd6de9d6",
   "metadata": {},
   "outputs": [],
   "source": [
    "mydb = con.connect(host='localhost', user='root', passwd='Ankit7631')"
   ]
  },
  {
   "cell_type": "code",
   "execution_count": 3,
   "id": "6b35173b",
   "metadata": {},
   "outputs": [],
   "source": [
    "cur = mydb.cursor()"
   ]
  },
  {
   "cell_type": "code",
   "execution_count": 4,
   "id": "60b79256",
   "metadata": {},
   "outputs": [],
   "source": [
    "cur.execute('use ineuron')"
   ]
  },
  {
   "cell_type": "markdown",
   "id": "3f219637",
   "metadata": {},
   "source": [
    "# Q-1. Write an SQL query to print details of workers excluding first names, “Vipul” and “Satish” from Worker table."
   ]
  },
  {
   "cell_type": "code",
   "execution_count": 5,
   "id": "45008afb",
   "metadata": {},
   "outputs": [
    {
     "data": {
      "text/plain": [
       "[(1, 'Monika', 'Arora', 100000, datetime.datetime(2014, 2, 20, 9, 0), 'HR'),\n",
       " (2,\n",
       "  'Niharika',\n",
       "  'Verma',\n",
       "  80000,\n",
       "  datetime.datetime(2014, 6, 11, 9, 0),\n",
       "  'Admin'),\n",
       " (3, 'Vishal', 'Singhal', 300000, datetime.datetime(2014, 2, 20, 9, 0), 'HR'),\n",
       " (4,\n",
       "  'Amitabh',\n",
       "  'Singh',\n",
       "  500000,\n",
       "  datetime.datetime(2014, 2, 20, 9, 0),\n",
       "  'Admin'),\n",
       " (5, 'Vivek', 'Bhati', 500000, datetime.datetime(2014, 6, 11, 9, 0), 'Admin'),\n",
       " (8,\n",
       "  'Geetika',\n",
       "  'Chauhan',\n",
       "  90000,\n",
       "  datetime.datetime(2014, 4, 11, 9, 0),\n",
       "  'Admin')]"
      ]
     },
     "execution_count": 5,
     "metadata": {},
     "output_type": "execute_result"
    }
   ],
   "source": [
    "cur.execute(\"SELECT * FROM worker WHERE first_name not in ('Vipul', 'Satish')\")\n",
    "cur.fetchall()"
   ]
  },
  {
   "cell_type": "markdown",
   "id": "308524af",
   "metadata": {},
   "source": [
    "# Q-2. Write an SQL query to print details of the Workers whose FIRST_NAME ends with ‘h’ and contains six alphabets."
   ]
  },
  {
   "cell_type": "code",
   "execution_count": 6,
   "id": "1d0edf9f",
   "metadata": {},
   "outputs": [
    {
     "data": {
      "text/plain": [
       "[(7,\n",
       "  'Satish',\n",
       "  'Kumar',\n",
       "  75000,\n",
       "  datetime.datetime(2014, 1, 20, 9, 0),\n",
       "  'Account')]"
      ]
     },
     "execution_count": 6,
     "metadata": {},
     "output_type": "execute_result"
    }
   ],
   "source": [
    "cur.execute(\"SELECT * FROM worker WHERE first_name like '_____h'\")\n",
    "cur.fetchall()"
   ]
  },
  {
   "cell_type": "markdown",
   "id": "ec913e16",
   "metadata": {},
   "source": [
    "# Q-3. Write a query to validate Email of Employee."
   ]
  },
  {
   "cell_type": "code",
   "execution_count": 7,
   "id": "357fd0b1",
   "metadata": {},
   "outputs": [],
   "source": [
    "cur.execute(\"Create table employee(EmpId int, Name nvarchar(50), email nvarchar(20), Primary Key(EmpId))\")"
   ]
  },
  {
   "cell_type": "code",
   "execution_count": 9,
   "id": "21dad91a",
   "metadata": {},
   "outputs": [],
   "source": [
    "cur.execute(\"Insert Into employee (EmpId, Name, email) values (1, 'Ram', 'ram@gmail.com'), (2, 'Shyam', 'shyam@hotmail.com'), (3, 'Rahul', 'rahul@gmail'), (4, 'Ankit', 'ank22kumar@gmail.com')\")"
   ]
  },
  {
   "cell_type": "code",
   "execution_count": 10,
   "id": "af700105",
   "metadata": {},
   "outputs": [
    {
     "data": {
      "text/plain": [
       "[(1, 'Ram', 'ram@gmail.com'),\n",
       " (2, 'Shyam', 'shyam@hotmail.com'),\n",
       " (3, 'Rahul', 'rahul@gmail'),\n",
       " (4, 'Ankit', 'ank22kumar@gmail.com')]"
      ]
     },
     "execution_count": 10,
     "metadata": {},
     "output_type": "execute_result"
    }
   ],
   "source": [
    "cur.execute(\"Select * from employee\")\n",
    "cur.fetchall()"
   ]
  },
  {
   "cell_type": "code",
   "execution_count": 11,
   "id": "254b497a",
   "metadata": {},
   "outputs": [
    {
     "data": {
      "text/plain": [
       "[(1, 'Ram', 'ram@gmail.com'),\n",
       " (2, 'Shyam', 'shyam@hotmail.com'),\n",
       " (4, 'Ankit', 'ank22kumar@gmail.com')]"
      ]
     },
     "execution_count": 11,
     "metadata": {},
     "output_type": "execute_result"
    }
   ],
   "source": [
    "cur.execute(\"SELECT * FROM employee WHERE email like '%@%.%'\")\n",
    "cur.fetchall()"
   ]
  },
  {
   "cell_type": "code",
   "execution_count": null,
   "id": "86f5c221",
   "metadata": {},
   "outputs": [],
   "source": []
  }
 ],
 "metadata": {
  "kernelspec": {
   "display_name": "Python 3 (ipykernel)",
   "language": "python",
   "name": "python3"
  },
  "language_info": {
   "codemirror_mode": {
    "name": "ipython",
    "version": 3
   },
   "file_extension": ".py",
   "mimetype": "text/x-python",
   "name": "python",
   "nbconvert_exporter": "python",
   "pygments_lexer": "ipython3",
   "version": "3.9.7"
  }
 },
 "nbformat": 4,
 "nbformat_minor": 5
}
