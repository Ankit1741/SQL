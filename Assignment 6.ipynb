{
 "cells": [
  {
   "cell_type": "code",
   "execution_count": 1,
   "id": "632a2329",
   "metadata": {},
   "outputs": [],
   "source": [
    "import mysql.connector as con"
   ]
  },
  {
   "cell_type": "code",
   "execution_count": 2,
   "id": "dd6de9d6",
   "metadata": {},
   "outputs": [],
   "source": [
    "mydb = con.connect(host='localhost', user='root', passwd='Ankit7631')"
   ]
  },
  {
   "cell_type": "code",
   "execution_count": 3,
   "id": "6b35173b",
   "metadata": {},
   "outputs": [],
   "source": [
    "cur = mydb.cursor()"
   ]
  },
  {
   "cell_type": "code",
   "execution_count": 4,
   "id": "60b79256",
   "metadata": {},
   "outputs": [],
   "source": [
    "cur.execute('use ineuron')"
   ]
  },
  {
   "cell_type": "markdown",
   "id": "3e190aa5",
   "metadata": {},
   "source": [
    "# Q-1. Write an SQL query to print details of the Workers who have joined in Feb’2014."
   ]
  },
  {
   "cell_type": "code",
   "execution_count": 5,
   "id": "41d5ee0e",
   "metadata": {},
   "outputs": [
    {
     "data": {
      "text/plain": [
       "[(1, 'Monika', 'Arora', 100000, datetime.datetime(2014, 2, 20, 9, 0), 'HR'),\n",
       " (3, 'Vishal', 'Singhal', 300000, datetime.datetime(2014, 2, 20, 9, 0), 'HR'),\n",
       " (4,\n",
       "  'Amitabh',\n",
       "  'Singh',\n",
       "  500000,\n",
       "  datetime.datetime(2014, 2, 20, 9, 0),\n",
       "  'Admin')]"
      ]
     },
     "execution_count": 5,
     "metadata": {},
     "output_type": "execute_result"
    }
   ],
   "source": [
    "cur.execute(\"SELECT * FROM worker where year(joining_date)=2014 and month(joining_date)=2\")\n",
    "cur.fetchall()"
   ]
  },
  {
   "cell_type": "markdown",
   "id": "2daf702e",
   "metadata": {},
   "source": [
    "# Q-2. Write an SQL query to fetch duplicate records having matching data in some fields of a table."
   ]
  },
  {
   "cell_type": "code",
   "execution_count": 7,
   "id": "d3d87747",
   "metadata": {},
   "outputs": [],
   "source": [
    "cur.execute(\"select * from employee\")"
   ]
  },
  {
   "cell_type": "code",
   "execution_count": 8,
   "id": "2183e6be",
   "metadata": {},
   "outputs": [
    {
     "data": {
      "text/plain": [
       "[(1, 'Ram', 'ram@gmail.com'),\n",
       " (2, 'Shyam', 'shyam@hotmail.com'),\n",
       " (3, 'Rahul', 'rahul@gmail'),\n",
       " (4, 'Ankit', 'ank22kumar@gmail.com'),\n",
       " (5, 'Ankit', 'ankkumar@gmail.com'),\n",
       " (6, 'Ankit', 'ank22kumar@gmail.com')]"
      ]
     },
     "execution_count": 8,
     "metadata": {},
     "output_type": "execute_result"
    }
   ],
   "source": [
    "cur.fetchall()"
   ]
  },
  {
   "cell_type": "code",
   "execution_count": 9,
   "id": "a99ca69a",
   "metadata": {},
   "outputs": [],
   "source": [
    "mydb.commit()"
   ]
  },
  {
   "cell_type": "code",
   "execution_count": 10,
   "id": "bc58d8ce",
   "metadata": {},
   "outputs": [
    {
     "data": {
      "text/plain": [
       "[('Ankit', 'ank22kumar@gmail.com')]"
      ]
     },
     "execution_count": 10,
     "metadata": {},
     "output_type": "execute_result"
    }
   ],
   "source": [
    "## code to fetch duplicate records\n",
    "\n",
    "cur.execute(\"SELECT name, email from employee group by name, email having count(*)>1\")\n",
    "cur.fetchall()"
   ]
  },
  {
   "cell_type": "markdown",
   "id": "f6ec5ed0",
   "metadata": {},
   "source": [
    "# Q-3. How to remove duplicate rows from Employees table."
   ]
  },
  {
   "cell_type": "code",
   "execution_count": 11,
   "id": "3327e3a4",
   "metadata": {},
   "outputs": [],
   "source": [
    "cur.execute(\"Delete e1 From employee e1 inner join employee e2 where e1.empid>e2.empid and e1.name=e2.name and e1.email=e2.email\")"
   ]
  },
  {
   "cell_type": "code",
   "execution_count": 12,
   "id": "3437642b",
   "metadata": {},
   "outputs": [
    {
     "data": {
      "text/plain": [
       "[(1, 'Ram', 'ram@gmail.com'),\n",
       " (2, 'Shyam', 'shyam@hotmail.com'),\n",
       " (3, 'Rahul', 'rahul@gmail'),\n",
       " (4, 'Ankit', 'ank22kumar@gmail.com'),\n",
       " (5, 'Ankit', 'ankkumar@gmail.com')]"
      ]
     },
     "execution_count": 12,
     "metadata": {},
     "output_type": "execute_result"
    }
   ],
   "source": [
    "cur.execute(\"select * from employee\")\n",
    "cur.fetchall()"
   ]
  },
  {
   "cell_type": "code",
   "execution_count": null,
   "id": "ffdeee37",
   "metadata": {},
   "outputs": [],
   "source": []
  }
 ],
 "metadata": {
  "kernelspec": {
   "display_name": "Python 3 (ipykernel)",
   "language": "python",
   "name": "python3"
  },
  "language_info": {
   "codemirror_mode": {
    "name": "ipython",
    "version": 3
   },
   "file_extension": ".py",
   "mimetype": "text/x-python",
   "name": "python",
   "nbconvert_exporter": "python",
   "pygments_lexer": "ipython3",
   "version": "3.9.7"
  }
 },
 "nbformat": 4,
 "nbformat_minor": 5
}
